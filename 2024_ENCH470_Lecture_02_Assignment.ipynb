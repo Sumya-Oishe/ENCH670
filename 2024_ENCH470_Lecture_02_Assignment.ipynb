{
 "cells": [
  {
   "cell_type": "markdown",
   "metadata": {},
   "source": [
    "# ENCH 470 Spring 2024 Lecture 2 Assignment: Intro to Python, continued"
   ]
  },
  {
   "cell_type": "markdown",
   "metadata": {},
   "source": [
    "<font color=red>**Problem:**</font> Pick four elements from the periodic table and create the following:\n",
    "1) A list of their element symbols\n",
    "\n",
    "2) A list of their names\n",
    "\n",
    "3) A list of their atomic numbers\n",
    "\n",
    "4) A list of their atomic weights"
   ]
  },
  {
   "cell_type": "code",
   "execution_count": 10,
   "metadata": {},
   "outputs": [
    {
     "name": "stdout",
     "output_type": "stream",
     "text": [
      "[6.94, 9.01, 10.81, 12]\n",
      "['Lithium', 'Beryllium', 'Boron', 'Carbon']\n"
     ]
    }
   ],
   "source": [
    "Symbols=['Li','Be','B','C']\n",
    "names=['Lithium','Beryllium','Boron','Carbon']\n",
    "atomicnumbers=[3,4,5,6]\n",
    "atomicweights=[6.94,9.01,10.81,12]\n",
    "print(atomicweights)\n",
    "print(names)"
   ]
  },
  {
   "cell_type": "markdown",
   "metadata": {},
   "source": [
    "<font color=red>**Problem:**</font> Next, create a list that contains four dictionaries, one for each of those elements, which has keys 'symbol','name','atomic number','atomic weight' and their corresponding values."
   ]
  },
  {
   "cell_type": "code",
   "execution_count": 24,
   "metadata": {},
   "outputs": [
    {
     "name": "stdout",
     "output_type": "stream",
     "text": [
      "[{'Symbol': 'Li', 'Name': 'Lithium', 'atomic Number': 3, 'atomic weight': 6.94}, {'Symbol': 'Be', 'Name': 'Beryllium', 'atomic Number': 4, 'atomic weight': 9.01}, {'Symbol': 'B', 'Name': 'Boron', 'atomic Number': 5, 'atomic weight': 10.81}, {'Symbol': 'C', 'Name': 'Carbon', 'atomic Number': 6, 'atomic weight': 12}]\n"
     ]
    }
   ],
   "source": [
    "ElementLi={'Symbol':'Li','Name':'Lithium','atomic Number':3,'atomic weight':6.94}\n",
    "ElementBe={'Symbol': 'Be','Name':'Beryllium','atomic Number':4,'atomic weight':9.01}\n",
    "ElementB={'Symbol':  'B','Name':'Boron','atomic Number':5,'atomic weight':10.81}\n",
    "ElementC={'Symbol':  'C','Name':'Carbon','atomic Number':6,'atomic weight':12}\n",
    "\n",
    "dictlist=[ElementLi, ElementBe, ElementB, ElementC]\n",
    "print(dictlist)\n"
   ]
  },
  {
   "cell_type": "markdown",
   "metadata": {},
   "source": [
    "<font color=orange>**Problem:**</font> Extra credit: Use a loop to create this list of dictionaries."
   ]
  },
  {
   "cell_type": "code",
   "execution_count": null,
   "metadata": {},
   "outputs": [],
   "source": []
  },
  {
   "cell_type": "markdown",
   "metadata": {},
   "source": [
    "<font color=red>**Problem:**</font> Test a few things out by creating matrices of numbers **first using manual definitions via Python** and **second using built-in numpy functions**.\n",
    "\n",
    "Create 3 arrays with row x column dimensions: 1x3, 3x3, 10x10x10. Use the print command to show 1 value from each array."
   ]
  },
  {
   "cell_type": "code",
   "execution_count": 28,
   "metadata": {},
   "outputs": [
    {
     "name": "stdout",
     "output_type": "stream",
     "text": [
      "2\n",
      "[[5, 2, 8], [8, 3, 9], [2, 6, 5]]\n",
      "3\n",
      "1\n"
     ]
    }
   ],
   "source": [
    "import numpy as np\n",
    "# using manual definitions in python\n",
    "row1= [5,2,8]\n",
    "print(row1[1])\n",
    "\n",
    "row2= [8,3,9]\n",
    "row3= [2,6,5]\n",
    "x=[row1,row2,row3]\n",
    "print(x)\n",
    "print(x[1][1])\n",
    "\n",
    "row1_1=[6,3,8,7,4,2,7,4,1,9]\n",
    "row1_2=[9,5,4,8,7,2,1,4,5,7]\n",
    "row1_3=[1,6,4,2,1,6,2,8,2,6]\n",
    "row1_4=[2,4,2,1,9,1,4,3,5,7]\n",
    "row1_5=[3,2,6,9,2,8,2,9,2,3]\n",
    "row1_6=[4,5,3,8,7,2,1,4,5,2]\n",
    "row1_7=[5,4,2,8,5,2,1,4,5,1]\n",
    "row1_8=[6,3,1,8,7,6,1,4,5,4]\n",
    "row1_9=[8,2,6,8,7,2,5,4,3,5]\n",
    "row1_10=[9,1,4,8,7,2,1,4,5,8]\n",
    "\n",
    "z= [row1_1, row1_2, row1_3, row1_4, row1_5, row1_6,row1_7, row1_8, row1_9, row1_10]\n",
    "print(z[3][3])\n"
   ]
  },
  {
   "cell_type": "code",
   "execution_count": null,
   "metadata": {},
   "outputs": [],
   "source": [
    "<font color=red>**Problem:**</font> \n",
    "Below this cell is a code cell. Change the code cell to a MarkDown cell, and put the **solution** to the quadratic equation inside it. MarkDown supports LaTeX formatting; use Google to figure out how to do that. An example for the quadratic equation is below if you double-click the problem cell."
   ]
  },
  {
   "cell_type": "markdown",
   "metadata": {},
   "source": []
  },
  {
   "cell_type": "markdown",
   "metadata": {},
   "source": [
    "<font color=red>**Problem:**</font> Make a function to find the roots of the quadratic equation. $f(x) = a*x^2 + b*x + c$\n",
    "Make sure the function can execute without an error for any combination of inputs. (If imaginary solution, either return a warning to the user, or show the imaginary solution)\n",
    "\n",
    "When I test this, I'll test your function with a few combinations inputs that I'll reveal to you later."
   ]
  },
  {
   "cell_type": "code",
   "execution_count": 53,
   "metadata": {},
   "outputs": [
    {
     "name": "stdout",
     "output_type": "stream",
     "text": [
      "Roots are real and same\n",
      "Root: 1.0\n"
     ]
    }
   ],
   "source": [
    "import math\n",
    " \n",
    "a = 1\n",
    "b = -2\n",
    "c = 1\n",
    " \n",
    "# Calculate the discriminant\n",
    "discriminant = b ** 2 - 4 * a * c\n",
    " \n",
    "if discriminant > 0:\n",
    "    root1 = (-b + math.sqrt(discriminant)) / (2 * a)\n",
    "    root2 = (-b - math.sqrt(discriminant)) / (2 * a)\n",
    "    print(\"Roots are real and distinct\")\n",
    "    print(\"Root 1:\", root1)\n",
    "    print(\"Root 2:\", root2)\n",
    "elif discriminant == 0:\n",
    "    root = -b / (2 * a)\n",
    "    print(\"Roots are real and same\")\n",
    "    print(\"Root:\", root)\n",
    "else:\n",
    "    realPart = -b / (2 * a)\n",
    "    imaginaryPart = math.sqrt(-discriminant) / (2 * a)\n",
    "    print(\"Roots are complex and different\")\n",
    "    print(\"Root 1:\", realPart, \"+\", imaginaryPart, \"i\")\n",
    "    print(\"Root 2:\", realPart, \"-\", imaginaryPart, \"i\")\n",
    " \n"
   ]
  },
  {
   "cell_type": "code",
   "execution_count": null,
   "metadata": {},
   "outputs": [],
   "source": [
    "x = quadratic(a,b,c)"
   ]
  },
  {
   "cell_type": "code",
   "execution_count": null,
   "metadata": {},
   "outputs": [],
   "source": []
  },
  {
   "cell_type": "markdown",
   "metadata": {},
   "source": [
    "<font color=red>**Problem:**</font> What is 1 + 1? Show me three ways to answer this question in Python, by being creative with data types."
   ]
  },
  {
   "cell_type": "code",
   "execution_count": 58,
   "metadata": {},
   "outputs": [
    {
     "name": "stdout",
     "output_type": "stream",
     "text": [
      "2\n",
      "2\n",
      "\n",
      "Tuple using List: \n",
      "(1, 1)\n"
     ]
    }
   ],
   "source": [
    "# Approach 1:Lists\n",
    "x=[1,1]\n",
    "print(x[1]+x[0])\n",
    "#Approach 2:Variables\n",
    "y=1\n",
    "z=1\n",
    "print(y+z)\n",
    "# Approach 3: Tuple\n",
    "list1 = [1, 1] \n",
    "print(\"\\nTuple using List: \") \n",
    "print(tuple(list1))"
   ]
  },
  {
   "cell_type": "code",
   "execution_count": null,
   "metadata": {},
   "outputs": [],
   "source": []
  }
 ],
 "metadata": {
  "kernelspec": {
   "display_name": "Python 3 (ipykernel)",
   "language": "python",
   "name": "python3"
  },
  "language_info": {
   "codemirror_mode": {
    "name": "ipython",
    "version": 3
   },
   "file_extension": ".py",
   "mimetype": "text/x-python",
   "name": "python",
   "nbconvert_exporter": "python",
   "pygments_lexer": "ipython3",
   "version": "3.11.5"
  }
 },
 "nbformat": 4,
 "nbformat_minor": 4
}
