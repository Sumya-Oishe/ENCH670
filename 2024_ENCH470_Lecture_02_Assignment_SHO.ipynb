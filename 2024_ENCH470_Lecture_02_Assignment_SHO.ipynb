{
 "cells": [
  {
   "cell_type": "markdown",
   "metadata": {},
   "source": [
    "# ENCH 470 Spring 2024 Lecture 2 Assignment: Intro to Python, continued"
   ]
  },
  {
   "cell_type": "markdown",
   "metadata": {},
   "source": [
    "<font color=red>**Problem:**</font> Pick four elements from the periodic table and create the following:\n",
    "1) A list of their element symbols\n",
    "\n",
    "2) A list of their names\n",
    "\n",
    "3) A list of their atomic numbers\n",
    "\n",
    "4) A list of their atomic weights"
   ]
  },
  {
   "cell_type": "code",
   "execution_count": 3,
   "metadata": {},
   "outputs": [],
   "source": [
    "element_symbol = ['H','He','Li','Be']\n",
    "element_name = ['Hydrogen','Helium','Lithium','Berilium']\n",
    "element_atom_num = ['1','2','3','4']\n",
    "element_atom_w = ['1','4','6.9','9']"
   ]
  },
  {
   "cell_type": "markdown",
   "metadata": {},
   "source": [
    "<font color=red>**Problem:**</font> Next, create a list that contains four dictionaries, one for each of those elements, which has keys 'symbol','name','atomic number','atomic weight' and their corresponding values."
   ]
  },
  {
   "cell_type": "code",
   "execution_count": 44,
   "metadata": {},
   "outputs": [
    {
     "name": "stdout",
     "output_type": "stream",
     "text": [
      "[{'symbol': 'H', 'name': 'Hydrogen', 'atomic number': 1, 'atomic weight': 1}, {'symbol': 'He', 'name': 'Helium', 'atomic number': 2, 'atomic weight': 4}, {'symbol': 'Li', 'name': 'Lithium', 'atomic number': 3, 'atomic weight': 6.9}, {'symbol': 'Be', 'name': 'Berilium', 'atomic number': 4, 'atomic weight': 9}]\n"
     ]
    }
   ],
   "source": [
    "dict_H = {'symbol':'H', 'name':'Hydrogen', 'atomic number':1, 'atomic weight':1}\n",
    "dict_He = {'symbol':'He', 'name':'Helium', 'atomic number':2, 'atomic weight':4}\n",
    "dict_Li = {'symbol':'Li', 'name':'Lithium', 'atomic number':3, 'atomic weight':6.9}\n",
    "dict_Be = {'symbol':'Be', 'name':'Berilium', 'atomic number':4, 'atomic weight':9}\n",
    "list_dict = [dict_H, dict_He, dict_Li, dict_Be]\n",
    "print(list_dict)"
   ]
  },
  {
   "cell_type": "markdown",
   "metadata": {},
   "source": [
    "<font color=orange>**Problem:**</font> Extra credit: Use a loop to create this list of dictionaries."
   ]
  },
  {
   "cell_type": "code",
   "execution_count": 43,
   "metadata": {},
   "outputs": [
    {
     "name": "stdout",
     "output_type": "stream",
     "text": [
      "[{'symbol': 'H', 'name': 'Hydrogen', 'atomic number': '1', 'atomic weight': '1'}, {'symbol': 'He', 'name': 'Helium', 'atomic number': '2', 'atomic weight': '4'}, {'symbol': 'Li', 'name': 'Lithium', 'atomic number': '3', 'atomic weight': '6.9'}, {'symbol': 'Be', 'name': 'Berilium', 'atomic number': '4', 'atomic weight': '9'}]\n"
     ]
    }
   ],
   "source": [
    "\n",
    "mylist=[]\n",
    "for i in range(0,4):\n",
    "    x={}\n",
    "    x['symbol']= element_symbol[i]\n",
    "    x['name']= element_name[i]\n",
    "    x['atomic number']= element_atom_num[i]\n",
    "    x['atomic weight']= element_atom_w[i]\n",
    "    mylist.append(x)\n",
    "print(mylist)"
   ]
  },
  {
   "cell_type": "markdown",
   "metadata": {},
   "source": [
    "<font color=red>**Problem:**</font> Test a few things out by creating matrices of numbers **first using manual definitions via Python** and **second using built-in numpy functions**.\n",
    "\n",
    "Create 3 arrays with row x column dimensions: 1x3, 3x3, 10x10x10. Use the print command to show 1 value from each array."
   ]
  },
  {
   "cell_type": "code",
   "execution_count": 57,
   "metadata": {},
   "outputs": [
    {
     "name": "stdout",
     "output_type": "stream",
     "text": [
      "[1, 2, 3] \n",
      " [[1, 2, 3], [4, 5, 6], [7, 8, 9]] \n",
      " [[0, 1, 2, 3, 4, 5, 6, 7, 8, 9], [0, 1, 2, 3, 4, 5, 6, 7, 8, 9], [0, 1, 2, 3, 4, 5, 6, 7, 8, 9], [0, 1, 2, 3, 4, 5, 6, 7, 8, 9], [0, 1, 2, 3, 4, 5, 6, 7, 8, 9], [0, 1, 2, 3, 4, 5, 6, 7, 8, 9], [0, 1, 2, 3, 4, 5, 6, 7, 8, 9], [0, 1, 2, 3, 4, 5, 6, 7, 8, 9], [0, 1, 2, 3, 4, 5, 6, 7, 8, 9], [0, 1, 2, 3, 4, 5, 6, 7, 8, 9]]\n",
      "2\n",
      "6\n",
      "5\n"
     ]
    }
   ],
   "source": [
    "mat1=[1,2,3] #1*3 matix\n",
    "mat2=[[1,2,3],\n",
    "      [4,5,6],\n",
    "      [7,8,9]] #3*3 matix\n",
    "mat3=[]\n",
    "mat4=[]\n",
    "for i in range(0,10):\n",
    "    mat4.append(i)\n",
    "    mat3.append(mat4) #10*10 matix\n",
    "print(mat1,'\\n',mat2,'\\n',mat3)\n",
    "\n",
    "print(mat1[1])\n",
    "print(mat2[1][2])\n",
    "print(mat3[2][5])"
   ]
  },
  {
   "cell_type": "markdown",
   "metadata": {},
   "source": [
    "<font color=red>**Problem:**</font> \n",
    "Below this cell is a code cell. Change the code cell to a MarkDown cell, and put the **solution** to the quadratic equation inside it. MarkDown supports LaTeX formatting; use Google to figure out how to do that. An example for the quadratic equation is below if you double-click the problem cell."
   ]
  },
  {
   "cell_type": "markdown",
   "metadata": {},
   "source": [
    "The quadratic equation. $f(x) = a*x^2 + b*x + c$\n",
    "\n",
    "The solution of the equation is:\n",
    "$x = \\frac{-b \\pm {b^2 - 4ac}}{2a}$"
   ]
  },
  {
   "cell_type": "markdown",
   "metadata": {},
   "source": [
    "<font color=red>**Problem:**</font> Make a function to find the roots of the quadratic equation. $f(x) = a*x^2 + b*x + c$\n",
    "Make sure the function can execute without an error for any combination of inputs. (If imaginary solution, either return a warning to the user, or show the imaginary solution)\n",
    "\n",
    "When I test this, I'll test your function with a few combinations inputs that I'll reveal to you later."
   ]
  },
  {
   "cell_type": "code",
   "execution_count": 6,
   "metadata": {},
   "outputs": [],
   "source": [
    "def quadratic(a,b,c):\n",
    "    D = b**2-4*a*c\n",
    "    if D>=0:\n",
    "        x1 = (-b+ (D)**0.5)/(2*a)\n",
    "        x2 = (-b- (D)**0.5)/(2*a)\n",
    "        x = {x1,x2}\n",
    "    else:\n",
    "        print('imaginary solution')\n",
    "        x1 = (-b+ (D)**0.5)/(2*a)\n",
    "        x2 = (-b- (D)**0.5)/(2*a)\n",
    "        x = {x1,x2}\n",
    "    return x"
   ]
  },
  {
   "cell_type": "code",
   "execution_count": 10,
   "metadata": {},
   "outputs": [
    {
     "name": "stdout",
     "output_type": "stream",
     "text": [
      "{-0.5}\n"
     ]
    }
   ],
   "source": [
    "x = quadratic(4,4,1)\n",
    "print(x)"
   ]
  },
  {
   "cell_type": "markdown",
   "metadata": {},
   "source": [
    "<font color=red>**Problem:**</font> What is 1 + 1? Show me three ways to answer this question in Python, by being creative with data types."
   ]
  },
  {
   "cell_type": "code",
   "execution_count": 14,
   "metadata": {},
   "outputs": [
    {
     "name": "stdout",
     "output_type": "stream",
     "text": [
      "2 2.0 11\n"
     ]
    }
   ],
   "source": [
    "add1 = 1+1 #integer\n",
    "add2 = 1.+1. #float\n",
    "add3 = '1'+'1' #string\n",
    "print(add1,add2,add3)"
   ]
  }
 ],
 "metadata": {
  "kernelspec": {
   "display_name": "Python 3 (ipykernel)",
   "language": "python",
   "name": "python3"
  },
  "language_info": {
   "codemirror_mode": {
    "name": "ipython",
    "version": 3
   },
   "file_extension": ".py",
   "mimetype": "text/x-python",
   "name": "python",
   "nbconvert_exporter": "python",
   "pygments_lexer": "ipython3",
   "version": "3.11.7"
  }
 },
 "nbformat": 4,
 "nbformat_minor": 4
}
