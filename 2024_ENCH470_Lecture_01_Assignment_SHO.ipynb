{
 "cells": [
  {
   "cell_type": "markdown",
   "metadata": {},
   "source": [
    "# ENCH 470 Spring 2023 Lecture 1 Assignment: Intro to Python and Jupyter\n",
    "\n",
    "<font color=red>**Problem:**</font>  Define the 3 sides of a triangle (a, b, and c) and solve for the area."
   ]
  },
  {
   "cell_type": "code",
   "execution_count": 6,
   "metadata": {},
   "outputs": [
    {
     "name": "stdout",
     "output_type": "stream",
     "text": [
      "3.799671038392666\n"
     ]
    }
   ],
   "source": [
    "# Use this code block to try to write some basic variable definitions and manipulations in Python.\n",
    "a= 2\n",
    "b= 4\n",
    "c= 5\n",
    "s=(a+b+c)/2\n",
    "ar = s*(s-a)*(s-b)*(s-c)\n",
    "area = ar**0.5\n",
    "print(area)"
   ]
  },
  {
   "cell_type": "markdown",
   "metadata": {},
   "source": [
    "<font color=red>**Problem:**</font>  Create 2 more variables (call them whatever you wish), and display all of the variables in this Notebook's memory."
   ]
  },
  {
   "cell_type": "code",
   "execution_count": 5,
   "metadata": {},
   "outputs": [
    {
     "name": "stdout",
     "output_type": "stream",
     "text": [
      "Variables in memory:\n",
      "logicaloutput\t my_dict\t my_list\t my_set\t my_tuple\t var1\t var2\t xyz\t \n",
      "Variable        Type     Data/Info\n",
      "----------------------------------\n",
      "logicaloutput   bool     True\n",
      "my_dict         dict     n=5\n",
      "my_list         list     n=5\n",
      "my_set          set      {1, 2, 3, 5, 6}\n",
      "my_tuple        tuple    n=5\n",
      "var1            str      Hello\n",
      "var2            int      42\n",
      "xyz             int      1\n"
     ]
    }
   ],
   "source": [
    "# Creating variables\n",
    "var1 = \"Hello\"\n",
    "var2 = 42\n",
    "\n",
    "# Displaying variables\n",
    "print(\"Variables in memory:\")\n",
    "%who \n",
    "%whos"
   ]
  },
  {
   "cell_type": "markdown",
   "metadata": {},
   "source": [
    "<font color=red>**Problem:**</font> \n",
    "The major data containers in Python include **lists** defined by [], **tuples** defined by (), **sets** defined by curly braces {}, and **dictionaries** which are **sets** with keys and values separated by **colons :**. \n",
    "\n",
    "Write out and test the differences between all 4 data containers in the cell below."
   ]
  },
  {
   "cell_type": "code",
   "execution_count": 4,
   "metadata": {},
   "outputs": [
    {
     "name": "stdout",
     "output_type": "stream",
     "text": [
      "List: [1, 2, 3, 4, 5]\n",
      "Tuple: (1, 2, 3, 4, 5)\n",
      "Set: {1, 2, 3, 4, 5}\n",
      "Dictionary: {'a': 1, 'b': 2, 'c': 3, 'd': 4, 'e': 5}\n",
      "Accessing elements:\n",
      "List element at index 0: 1\n",
      "Tuple element at index 1: 2\n",
      "Dictionary value for key 'c': 3\n",
      "Modifying elements:\n",
      "Modified List: [1, 2, 10, 5, 6]\n",
      "Modified Tuple: (1, 2, 3, 4, 5)\n",
      "Modified Set: {1, 2, 3, 5, 6}\n",
      "Modified Dictionary: {'a': 1, 'b': 2, 'c': 30, 'e': 5, 'f': 6}\n"
     ]
    }
   ],
   "source": [
    "# Lists\n",
    "my_list = [1, 2, 3, 4, 5]\n",
    "print(\"List:\", my_list)\n",
    "\n",
    "# Tuples\n",
    "my_tuple = (1, 2, 3, 4, 5)\n",
    "print(\"Tuple:\", my_tuple)\n",
    "\n",
    "# Sets\n",
    "my_set = {1, 2, 3, 4, 5}\n",
    "print(\"Set:\", my_set)\n",
    "\n",
    "# Dictionaries\n",
    "my_dict = {'a': 1, 'b': 2, 'c': 3, 'd': 4, 'e': 5}\n",
    "print(\"Dictionary:\", my_dict)\n",
    "\n",
    "# Accessing elements\n",
    "print(\"Accessing elements:\")\n",
    "print(\"List element at index 0:\", my_list[0])\n",
    "print(\"Tuple element at index 1:\", my_tuple[1])\n",
    "# Sets don't support indexing \n",
    "print(\"Dictionary value for key 'c':\", my_dict['c'])\n",
    "\n",
    "# Modifying elements\n",
    "print(\"Modifying elements:\")\n",
    "# Lists are mutable and can be modified\n",
    "my_list[2] = 10\n",
    "# Tuples are immutable,\n",
    "# Modifying dictionary value for key 'c'\n",
    "my_dict['c'] = 30\n",
    "\n",
    "# Adding elements\n",
    "# Lists can be extended or concatenated\n",
    "my_list.append(6)\n",
    "# Tuples are immutable,\n",
    "# Sets can be updated\n",
    "my_set.add(6)\n",
    "# Adding a new key-value pair to the dictionary\n",
    "my_dict['f'] = 6\n",
    "\n",
    "# Removing elements\n",
    "# Removing element from list and set\n",
    "my_list.remove(4)\n",
    "my_set.remove(4)\n",
    "# Removing key-value pair from dictionary\n",
    "del my_dict['d']\n",
    "\n",
    "# Displaying the modified containers\n",
    "print(\"Modified List:\", my_list)\n",
    "print(\"Modified Tuple:\", my_tuple)\n",
    "print(\"Modified Set:\", my_set)\n",
    "print(\"Modified Dictionary:\", my_dict)\n"
   ]
  },
  {
   "cell_type": "code",
   "execution_count": 3,
   "metadata": {},
   "outputs": [
    {
     "name": "stdout",
     "output_type": "stream",
     "text": [
      "True False True\n",
      "True\n",
      "output is True\n"
     ]
    },
    {
     "data": {
      "text/plain": [
       "bool"
      ]
     },
     "execution_count": 3,
     "metadata": {},
     "output_type": "execute_result"
    }
   ],
   "source": [
    "# Define a variable xyz\n",
    "xyz=1\n",
    "\n",
    "xyz==1\n",
    "print(xyz==1,xyz<1,xyz<=1) # issue a print command evaluating the contained sequences\n",
    "logicaloutput = xyz == 1\n",
    "print(logicaloutput)\n",
    "print('output is %s' %logicaloutput)\n",
    "type(logicaloutput)"
   ]
  },
  {
   "cell_type": "markdown",
   "metadata": {},
   "source": [
    "<font color=red>**Problem:**</font> try swapping the order of the last 2 lines from the previous code cell. What does this tell you about printing results in Python and Jupyter?"
   ]
  },
  {
   "cell_type": "code",
   "execution_count": 2,
   "metadata": {},
   "outputs": [
    {
     "name": "stdout",
     "output_type": "stream",
     "text": [
      "True False True\n",
      "True\n",
      "output is True\n"
     ]
    }
   ],
   "source": [
    "xyz=1\n",
    "\n",
    "xyz==1\n",
    "print(xyz==1,xyz<1,xyz<=1) # issue a print command evaluating the contained sequences\n",
    "logicaloutput = xyz == 1\n",
    "print(logicaloutput)\n",
    "type(logicaloutput)\n",
    "print('output is %s' %logicaloutput) "
   ]
  },
  {
   "cell_type": "code",
   "execution_count": null,
   "metadata": {},
   "outputs": [],
   "source": [
    "#Answer: jupyter automatically show the value of last variable as output even if there is no print command where python doesn't."
   ]
  }
 ],
 "metadata": {
  "kernelspec": {
   "display_name": "Python 3 (ipykernel)",
   "language": "python",
   "name": "python3"
  },
  "language_info": {
   "codemirror_mode": {
    "name": "ipython",
    "version": 3
   },
   "file_extension": ".py",
   "mimetype": "text/x-python",
   "name": "python",
   "nbconvert_exporter": "python",
   "pygments_lexer": "ipython3",
   "version": "3.11.7"
  }
 },
 "nbformat": 4,
 "nbformat_minor": 4
}
