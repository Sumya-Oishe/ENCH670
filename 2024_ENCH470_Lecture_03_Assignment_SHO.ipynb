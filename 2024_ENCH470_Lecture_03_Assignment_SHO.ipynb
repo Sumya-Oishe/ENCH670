{
 "cells": [
  {
   "cell_type": "markdown",
   "metadata": {},
   "source": [
    "# ENCH 470 Spring 2024 Assignment 3"
   ]
  },
  {
   "cell_type": "markdown",
   "metadata": {},
   "source": [
    "## Antoine's equation\n",
    "\n",
    "Antoine's equation correlates the saturated vapor pressure $P^{sat}$ and temperature $T$ for pure species in vapor-liquid equilibrium.\n",
    "\n",
    "$$ \\log _{{10}}P^{sat}=A-{\\frac  {B}{C+T}}.$$\n",
    "\n",
    "where $P^{sat}$ units are $[mmHg]$ and $T$ units are $[°C]$ (or whatever units your source has you using)\n",
    "\n",
    "Here's a simple function that does the job:"
   ]
  },
  {
   "cell_type": "code",
   "execution_count": 1,
   "metadata": {},
   "outputs": [],
   "source": [
    "from calc_antoine import antoine"
   ]
  },
  {
   "cell_type": "code",
   "execution_count": 2,
   "metadata": {},
   "outputs": [],
   "source": [
    "def antoine( a, T ):\n",
    "    \"\"\"Antoine's equation calculator\n",
    "    \n",
    "    This uses Antoine's equation to calculate the vapor pressure of a fluid\n",
    "    given the coefficients of the equation: Ps = a1 - a2/(a3 + T).\n",
    "    \n",
    "    Parameters\n",
    "    ----------\n",
    "    a :the Antoine coefficients with coefficients in columns and species in rows.\n",
    "    T : the temperature to evaluate the vapor pressure at.\n",
    "    \n",
    "    Returns\n",
    "    -------\n",
    "    Ps : row vector of vapor pressures for all species at the specified temperature\n",
    "\n",
    "    The units depend on the units used for the coefficients.  The user is\n",
    "    responsible for maintaining consistency with units.  Customarily,\n",
    "    coefficients are supplied for pressure in mmHg and T in Celsius.\n",
    "    \n",
    "    Examples\n",
    "    --------\n",
    "    >>> Ps = antoine(a, T)\n",
    "    \n",
    "    \"\"\"\n",
    "    \n",
    "    Ps = 10.0**( a[:,0]-a[:,1] / ( a[:,2] + T ) )\n",
    "    return Ps\n",
    "    \n",
    "def raoults_law_k_values(a, T, P):\n",
    "    \"\"\"\n",
    "    Calculate K-values using Raoult's Law.\n",
    "    \n",
    "    Parameters:\n",
    "    - T: Temperature in Kelvin\n",
    "    - P: Total pressure in mmHg\n",
    "    - a: containing coefficients matrix a for Antoine's equation\n",
    "    \n",
    "    Returns:\n",
    "    List of K values for each component\n",
    "    \"\"\"\n",
    "    \n",
    "    Pa = antoine(a,T)\n",
    "    K = Pa / P  # Raoult's Law\n",
    "    \n",
    "    return K"
   ]
  },
  {
   "cell_type": "markdown",
   "metadata": {},
   "source": [
    "<font color=red>**Problem:**</font> Write a function to calculate K-values at a given T and P using Raoult's Law and obtaining the vapor pressure from Antoine's equation. https://en.wikipedia.org/wiki/Vapor–liquid_equilibrium#K_values_and_relative_volatility_values You may use the provided function `antoine` from `calc_antoine.py`; if you use your own function for Antoine's equation, please provide it in this notebook."
   ]
  },
  {
   "cell_type": "code",
   "execution_count": 3,
   "metadata": {},
   "outputs": [],
   "source": [
    "from raoult_law import raoults_law_k_values as rkl"
   ]
  },
  {
   "cell_type": "markdown",
   "metadata": {},
   "source": [
    "<font color=red>**Problem:**</font> Document this function using appropriate docstring convention."
   ]
  },
  {
   "cell_type": "code",
   "execution_count": 4,
   "metadata": {
    "scrolled": true
   },
   "outputs": [
    {
     "name": "stdout",
     "output_type": "stream",
     "text": [
      "Help on function raoults_law_k_values in module raoult_law:\n",
      "\n",
      "raoults_law_k_values(a, T, P)\n",
      "    Calculate K-values using Raoult's Law.\n",
      "    \n",
      "    Parameters:\n",
      "    - T: Temperature in Kelvin\n",
      "    - P: Total pressure in mmHg\n",
      "    - a: containing coefficients matrix a for Antoine's equation\n",
      "    \n",
      "    Returns:\n",
      "    List of K values for each component\n",
      "\n"
     ]
    }
   ],
   "source": [
    "help(rkl)"
   ]
  },
  {
   "cell_type": "code",
   "execution_count": 6,
   "metadata": {},
   "outputs": [],
   "source": [
    "import numpy as np"
   ]
  },
  {
   "cell_type": "markdown",
   "metadata": {},
   "source": [
    "<font color=red>**Problem:**</font> Calculate the K-values for propane and benzene at 101325 Pa and 300 K. Coefficents are from the NIST Webbook and are compatible with units of bar and K."
   ]
  },
  {
   "cell_type": "code",
   "execution_count": 7,
   "metadata": {},
   "outputs": [
    {
     "data": {
      "text/plain": [
       "array([9.85253353, 0.13484931])"
      ]
     },
     "execution_count": 7,
     "metadata": {},
     "output_type": "execute_result"
    }
   ],
   "source": [
    "propane = [4.53678, 1149.36, 24.906]\n",
    "benzene = [0.14591, 39.165, -261.236]\n",
    "a = np.array([propane,benzene])\n",
    "#y = antoine(x,T)\n",
    "P = 101325\n",
    "P_new = 101325/100000 #bar\n",
    "T = 300 # K\n",
    "rkl(a,T,P_new)"
   ]
  },
  {
   "cell_type": "markdown",
   "metadata": {},
   "source": [
    "<font color=red>**Problem:**</font> Use the answer from the previous problem to create a test for verifying the K-value function. Document this test function using docstrings."
   ]
  },
  {
   "cell_type": "code",
   "execution_count": 8,
   "metadata": {},
   "outputs": [
    {
     "name": "stdout",
     "output_type": "stream",
     "text": [
      "test passed\n",
      "test passed\n",
      "None None\n"
     ]
    }
   ],
   "source": [
    "def test1():\n",
    "    # Parameters\n",
    "    A = 4.53678\n",
    "    B = 1149.36\n",
    "    C = 24.906 \n",
    "    T = 300\n",
    "\n",
    "    Psat = 9.85\n",
    "    \n",
    "    if abs(rkl(a,T,P_new)[0] - Psat) < 0.01:\n",
    "        print(\"test passed\")\n",
    "    else:\n",
    "        print(\"test failed\")\n",
    "\n",
    "def test2():\n",
    "    # Parameters\n",
    "    A = 0.14591\n",
    "    B = 39.165\n",
    "    C = -261.236 \n",
    "    T = 300\n",
    "\n",
    "    Psat = 0.13\n",
    "    \n",
    "    if abs(rkl(a,T,P_new)[1] - Psat) < 0.01:\n",
    "        print(\"test passed\")\n",
    "    else:\n",
    "        print(\"test failed\")\n",
    "        \n",
    "print(test1(),test2())"
   ]
  },
  {
   "cell_type": "code",
   "execution_count": 9,
   "metadata": {},
   "outputs": [
    {
     "data": {
      "text/plain": [
       "array([[1, 2],\n",
       "       [3, 4],\n",
       "       [5, 6]])"
      ]
     },
     "execution_count": 9,
     "metadata": {},
     "output_type": "execute_result"
    }
   ],
   "source": [
    "A = np.array([1, 2, 3, 4, 5, 6])\n",
    "B = np.reshape(A, (3,2))\n",
    "B"
   ]
  },
  {
   "cell_type": "markdown",
   "metadata": {},
   "source": [
    "<font color=red>**Problem:**</font> For the array `B` above, calculate the mean of each row and calculate the mean of each column, clearly labeling each case. Tip: read the docs on how `mean` works for multidimensional arrays."
   ]
  },
  {
   "cell_type": "code",
   "execution_count": 10,
   "metadata": {},
   "outputs": [
    {
     "name": "stdout",
     "output_type": "stream",
     "text": [
      "Mean of each row:\n",
      "[1.5 3.5 5.5]\n",
      "\n",
      "Mean of each column:\n",
      "[3. 4.]\n"
     ]
    }
   ],
   "source": [
    "# Calculate the mean of each row (along axis 1)\n",
    "r_means = np.mean(B, axis=1)\n",
    "\n",
    "# Calculate the mean of each column (along axis 0)\n",
    "c_means = np.mean(B, axis=0)\n",
    "\n",
    "print(\"Mean of each row:\")\n",
    "print(r_means)\n",
    "\n",
    "print(\"\\nMean of each column:\")\n",
    "print(c_means)\n"
   ]
  },
  {
   "cell_type": "markdown",
   "metadata": {},
   "source": [
    "<font color=red>**Problem:**</font> Consider the dataset below. Count the number of measurements, calculate the mean and standard deviation of the data. Print the standard deviation with 1 significant digit and print the mean with the same precision. Your code may specify the number of digits manually in this answer.\n",
    "\n",
    "For example, if the mean is 5.2112332 and the standard deviation is 0.02332, then you should print 5.21 +/- 0.02."
   ]
  },
  {
   "cell_type": "code",
   "execution_count": 11,
   "metadata": {},
   "outputs": [
    {
     "name": "stdout",
     "output_type": "stream",
     "text": [
      "5\n",
      "0.0024635207999999997\n",
      "3.064859822569385e-05\n",
      "Average of 5 measurements is 0.002 +/- 3e-05\n"
     ]
    }
   ],
   "source": [
    "Measurements = np.array([0.00245234, 0.00245524, 0.00248823, 0.002499234, 0.00242256])\n",
    "\n",
    "# Count the number of measurements\n",
    "num_measurements = len(Measurements)\n",
    "\n",
    "# Calculate mean and standard deviation\n",
    "mean_value = np.mean(Measurements)\n",
    "std_dev_value = np.std(Measurements, ddof=1)  # ddof=1 for sample standard deviation\n",
    "\n",
    "# Format mean and standard deviation with 1 significant digit\n",
    "formatted_mean = f\"{mean_value:.1g}\"\n",
    "formatted_std_dev = f\"{std_dev_value:.1g}\"\n",
    "\n",
    "# Print the result\n",
    "print(num_measurements)\n",
    "print(mean_value)\n",
    "print(std_dev_value)\n",
    "print('Average of', num_measurements, 'measurements is', formatted_mean, '+/-', formatted_std_dev) "
   ]
  },
  {
   "cell_type": "markdown",
   "metadata": {},
   "source": [
    "<font color=orange>**Extra Credit:**</font> Do the same across the rows of the data below. Have your code detect the number of signficant figures (based on the standard deviation) and use that to format the number of digits for the mean. You may not specify the number of digits manually."
   ]
  },
  {
   "cell_type": "code",
   "execution_count": 12,
   "metadata": {},
   "outputs": [],
   "source": [
    "MoreData = {'Concentration':[0.00245234, 0.00245524, 0.00248823, 0.002499234, 0.00242256],\n",
    "            'Number of particles':[527283, 557398, 598720, 605402, 515654],\n",
    "            'Solubility':[0.551, 0.245, 0.456, 0.378, 0.345]}"
   ]
  },
  {
   "cell_type": "code",
   "execution_count": 35,
   "metadata": {},
   "outputs": [
    {
     "name": "stdout",
     "output_type": "stream",
     "text": [
      "\n",
      "Concentration:\n",
      "  Mean: 0.002463520799999999698 +/- 3.064859822569385102e-05\n",
      "\n",
      "Number of particles:\n",
      "  Mean: 560891.4 +/- 40621.2605762\n",
      "\n",
      "Solubility:\n",
      "  Mean: 0.395 +/- 0.115483765092761\n"
     ]
    }
   ],
   "source": [
    "MoreData = {'Concentration': [0.00245234, 0.00245524, 0.00248823, 0.002499234, 0.00242256],\n",
    "            'Number of particles': [527283, 557398, 598720, 605402, 515654],\n",
    "            'Solubility': [0.551, 0.245, 0.456, 0.378, 0.345]}\n",
    "\n",
    "def calculate_and_format(data):\n",
    "    result = {}\n",
    "    \n",
    "    for key, values in data.items():\n",
    "        mean_value = np.mean(values)\n",
    "        std_dev_value = np.std(values, ddof=1)\n",
    "        \n",
    "        # Determine the number of significant figures based on the standard deviation\n",
    "        num_significant_figures = len(str(std_dev_value).split('.')[-1])\n",
    "        \n",
    "        # Format mean and standard deviation\n",
    "        formatted_mean = f\"{mean_value:.{num_significant_figures}g}\"\n",
    "        formatted_std_dev = f\"{std_dev_value:.{num_significant_figures}g}\"\n",
    "        \n",
    "        result[key] = {'Mean': formatted_mean, 'Standard Deviation': formatted_std_dev}\n",
    "    \n",
    "    return result\n",
    "\n",
    "result = calculate_and_format(MoreData)\n",
    "\n",
    "# Print the result\n",
    "for key, values in result.items():\n",
    "    print(f\"\\n{key}:\")\n",
    "    print(f\"  Mean: {values['Mean']} +/- {values['Standard Deviation']}\")\n"
   ]
  },
  {
   "cell_type": "markdown",
   "metadata": {},
   "source": [
    "<font color=red>**Problem:**</font> Look up 3 additional numpy functions and methods and show an example for each."
   ]
  },
  {
   "cell_type": "code",
   "execution_count": 13,
   "metadata": {},
   "outputs": [
    {
     "name": "stdout",
     "output_type": "stream",
     "text": [
      "[0 1 2 3 4 5 6 7 8 9]\n"
     ]
    }
   ],
   "source": [
    "result = np.arange(10)\n",
    "print(result)"
   ]
  },
  {
   "cell_type": "code",
   "execution_count": 14,
   "metadata": {},
   "outputs": [
    {
     "name": "stdout",
     "output_type": "stream",
     "text": [
      "[[1. 1. 1.]\n",
      " [1. 1. 1.]\n",
      " [1. 1. 1.]]\n"
     ]
    }
   ],
   "source": [
    "ones_array = np.ones((3, 3))\n",
    "print(ones_array)"
   ]
  },
  {
   "cell_type": "code",
   "execution_count": 15,
   "metadata": {},
   "outputs": [
    {
     "name": "stdout",
     "output_type": "stream",
     "text": [
      "[ 6 15]\n"
     ]
    }
   ],
   "source": [
    "data = np.array([[1, 2, 3], [4, 5, 6]])\n",
    "sum_result = np.sum(data, axis=1)\n",
    "print(sum_result)"
   ]
  }
 ],
 "metadata": {
  "kernelspec": {
   "display_name": "Python 3 (ipykernel)",
   "language": "python",
   "name": "python3"
  },
  "language_info": {
   "codemirror_mode": {
    "name": "ipython",
    "version": 3
   },
   "file_extension": ".py",
   "mimetype": "text/x-python",
   "name": "python",
   "nbconvert_exporter": "python",
   "pygments_lexer": "ipython3",
   "version": "3.11.7"
  }
 },
 "nbformat": 4,
 "nbformat_minor": 4
}
