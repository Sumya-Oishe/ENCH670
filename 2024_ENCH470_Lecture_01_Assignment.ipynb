{
 "cells": [
  {
   "cell_type": "markdown",
   "metadata": {},
   "source": [
    "# ENCH 470 Spring 2023 Lecture 1 Assignment: Intro to Python and Jupyter\n",
    "\n",
    "<font color=red>**Problem:**</font>  Define the 3 sides of a triangle (a, b, and c) and solve for the area."
   ]
  },
  {
   "cell_type": "code",
   "execution_count": 1,
   "metadata": {},
   "outputs": [],
   "source": [
    "# Use this code block to try to write some basic variable definitions and manipulations in Python."
   ]
  },
  {
   "cell_type": "markdown",
   "metadata": {},
   "source": [
    "<font color=red>**Problem:**</font>  Create 2 more variables (call them whatever you wish), and display all of the variables in this Notebook's memory."
   ]
  },
  {
   "cell_type": "code",
   "execution_count": null,
   "metadata": {},
   "outputs": [],
   "source": []
  },
  {
   "cell_type": "markdown",
   "metadata": {},
   "source": [
    "<font color=red>**Problem:**</font> \n",
    "The major data containers in Python include **lists** defined by [], **tuples** defined by (), **sets** defined by curly braces {}, and **dictionaries** which are **sets** with keys and values separated by **colons :**. \n",
    "\n",
    "Write out and test the differences between all 4 data containers in the cell below."
   ]
  },
  {
   "cell_type": "code",
   "execution_count": null,
   "metadata": {},
   "outputs": [],
   "source": []
  },
  {
   "cell_type": "code",
   "execution_count": null,
   "metadata": {},
   "outputs": [],
   "source": [
    "# Define a variable xyz\n",
    "xyz=1\n",
    "\n",
    "xyz==1\n",
    "print(xyz==1,xyz<1,xyz<=1) # issue a print command evaluating the contained sequences"
   ]
  },
  {
   "cell_type": "markdown",
   "metadata": {},
   "source": [
    "<font color=red>**Problem:**</font> try swapping the order of the last 2 lines from the previous code cell. What does this tell you about printing results in Python and Jupyter?"
   ]
  },
  {
   "cell_type": "code",
   "execution_count": null,
   "metadata": {},
   "outputs": [],
   "source": []
  }
 ],
 "metadata": {
  "kernelspec": {
   "display_name": "Python 3 (ipykernel)",
   "language": "python",
   "name": "python3"
  },
  "language_info": {
   "codemirror_mode": {
    "name": "ipython",
    "version": 3
   },
   "file_extension": ".py",
   "mimetype": "text/x-python",
   "name": "python",
   "nbconvert_exporter": "python",
   "pygments_lexer": "ipython3",
   "version": "3.10.10"
  }
 },
 "nbformat": 4,
 "nbformat_minor": 4
}
