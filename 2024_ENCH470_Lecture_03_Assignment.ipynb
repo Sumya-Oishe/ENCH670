{
 "cells": [
  {
   "cell_type": "markdown",
   "metadata": {},
   "source": [
    "# ENCH 470 Spring 2024 Assignment 3"
   ]
  },
  {
   "cell_type": "markdown",
   "metadata": {},
   "source": [
    "## Antoine's equation\n",
    "\n",
    "Antoine's equation correlates the saturated vapor pressure $P^{sat}$ and temperature $T$ for pure species in vapor-liquid equilibrium.\n",
    "\n",
    "$$ \\log _{{10}}P^{sat}=A-{\\frac  {B}{C+T}}.$$\n",
    "\n",
    "where $P^{sat}$ units are $[mmHg]$ and $T$ units are $[°C]$ (or whatever units your source has you using)\n",
    "\n",
    "Here's a simple function that does the job:"
   ]
  },
  {
   "cell_type": "code",
   "execution_count": 8,
   "metadata": {},
   "outputs": [],
   "source": [
    "from calc_antoine import antoine"
   ]
  },
  {
   "cell_type": "markdown",
   "metadata": {},
   "source": [
    "<font color=red>**Problem:**</font> Write a function to calculate K-values at a given T and P using Raoult's Law and obtaining the vapor pressure from Antoine's equation. https://en.wikipedia.org/wiki/Vapor–liquid_equilibrium#K_values_and_relative_volatility_values You may use the provided function `antoine` from `calc_antoine.py`; if you use your own function for Antoine's equation, please provide it in this notebook."
   ]
  },
  {
   "cell_type": "code",
   "execution_count": 9,
   "metadata": {},
   "outputs": [],
   "source": [
    "def kvaluefunct(a,T,P):\n",
    "    Ps=antoine(a,T)\n",
    "    K=Ps/P\n",
    "    return K\n",
    "    "
   ]
  },
  {
   "cell_type": "markdown",
   "metadata": {},
   "source": [
    "<font color=red>**Problem:**</font> Document this function using appropriate docstring convention."
   ]
  },
  {
   "cell_type": "code",
   "execution_count": 10,
   "metadata": {},
   "outputs": [],
   "source": [
    "def kvaluefunction(a,T,P):\n",
    "    \"\"\"\n",
    "    Calculate K-values using Raoult's Law and obtaining the vapor pressure from Antoine's equation.\n",
    "     Parameters:\n",
    "     -----------\n",
    "     \n",
    "    a : the Antoine coefficients with coefficients in columns and species in rows.\n",
    "    T : the temperature in Kelvin to evaluate the vapor pressure\n",
    "    P: pressure \n",
    "\n",
    "    Returns:\n",
    "    dict: A dictionary containing K-values for each component in the mixture.\n",
    "    \n",
    "    The function calculates K-values for each component in the mixture at the given\n",
    "    temperature (T) and pressure (P) using Raoult's Law. The vapor pressure of each\n",
    "    component is obtained from Antoine's equation.\n",
    "    \n",
    "    \n",
    "    \"\"\"\n",
    "    Ps = antoine(a,T)\n",
    "    K= Ps/P\n",
    "    return K\n",
    "    \n"
   ]
  },
  {
   "cell_type": "markdown",
   "metadata": {},
   "source": [
    "<font color=red>**Problem:**</font> Calculate the K-values for propane and benzene at 101325 Pa and 300 K. Coefficents are from the NIST Webbook and are compatible with units of bar and K."
   ]
  },
  {
   "cell_type": "code",
   "execution_count": 11,
   "metadata": {},
   "outputs": [
    {
     "name": "stdout",
     "output_type": "stream",
     "text": [
      "[9.85253353 0.13484931]\n"
     ]
    }
   ],
   "source": [
    "import numpy as np\n",
    "propane = [4.53678, 1149.36, 24.906]\n",
    "newpropane = np.array([propane])\n",
    "benzene = [0.14591, 39.165, -261.236]\n",
    "newbenzene = np.array([benzene])\n",
    "elements=np.array([propane, benzene])\n",
    "\n",
    "P = 101325  # Pa\n",
    "Pbar= 101325/100000 #bar\n",
    "T = 300 # K\n",
    "print(kvaluefunction(elements,T,Pbar))"
   ]
  },
  {
   "cell_type": "markdown",
   "metadata": {},
   "source": [
    "<font color=red>**Problem:**</font> Use the answer from the previous problem to create a test for verifying the K-value function. Document this test function using docstrings."
   ]
  },
  {
   "cell_type": "code",
   "execution_count": 14,
   "metadata": {},
   "outputs": [
    {
     "name": "stdout",
     "output_type": "stream",
     "text": [
      "kvalue test 1 passed\n",
      "None\n"
     ]
    }
   ],
   "source": [
    "def kvaluefunction_test1():  \n",
    "    kvalue = 9.853\n",
    "    #print(kvalues(propane))\n",
    "    if abs(kvaluefunct(newpropane,T,Pbar) - kvalue) < 0.01:\n",
    "        print(\"kvalue test 1 passed\")\n",
    "    else:\n",
    "        print(\"kvalue test 1 failed\")\n",
    "        \n",
    "def kvaluefunction_test2():  \n",
    "    kvalue = 0.135\n",
    "    #print(kvalues(propane))\n",
    "    if abs(kvaluefunction(newbenzene, T, Pbar) - kvalue) < 0.01:\n",
    "        print(\"kvalue test 1 passed\")\n",
    "    else:\n",
    "        print(\"kvalue test 1 failed\")\n",
    "\n",
    "print(kvaluefunction_test1())"
   ]
  },
  {
   "cell_type": "code",
   "execution_count": 52,
   "metadata": {},
   "outputs": [],
   "source": [
    "A = np.array([1, 2, 3, 4, 5, 6])\n",
    "B = np.reshape(A, (3,2))"
   ]
  },
  {
   "cell_type": "markdown",
   "metadata": {},
   "source": [
    "<font color=red>**Problem:**</font> For the array `B` above, calculate the mean of each row and calculate the mean of each column, clearly labeling each case. Tip: read the docs on how `mean` works for multidimensional arrays."
   ]
  },
  {
   "cell_type": "code",
   "execution_count": 6,
   "metadata": {},
   "outputs": [
    {
     "name": "stdout",
     "output_type": "stream",
     "text": [
      "Array B: [[1 2]\n",
      " [3 4]\n",
      " [5 6]]\n",
      "Mean of each row: [1.5 3.5 5.5]\n",
      "Mean of each column: [3. 4.]\n"
     ]
    }
   ],
   "source": [
    "import numpy as np\n",
    "\n",
    "# Assuming A is your original array\n",
    "A = np.array([1, 2, 3, 4, 5, 6])\n",
    "\n",
    "# Reshape A into a 3x2 array\n",
    "B = np.reshape(A, (3, 2))\n",
    "\n",
    "# Calculate the mean of each row\n",
    "mean_row = np.mean(B, axis=1)\n",
    "\n",
    "# Calculate the mean of each column\n",
    "mean_column = np.mean(B, axis=0)\n",
    "\n",
    "print(\"Array B:\",B)\n",
    "print(\"Mean of each row:\",mean_row)\n",
    "print(\"Mean of each column:\",mean_column)"
   ]
  },
  {
   "cell_type": "markdown",
   "metadata": {},
   "source": [
    "<font color=red>**Problem:**</font> Consider the dataset below. Count the number of measurements, calculate the mean and standard deviation of the data. Print the standard deviation with 1 significant digit and print the mean with the same precision. Your code may specify the number of digits manually in this answer.\n",
    "\n",
    "For example, if the mean is 5.2112332 and the standard deviation is 0.02332, then you should print 5.21 +/- 0.02."
   ]
  },
  {
   "cell_type": "code",
   "execution_count": 28,
   "metadata": {},
   "outputs": [
    {
     "name": "stdout",
     "output_type": "stream",
     "text": [
      "5\n",
      "0.00246\n",
      "3e-05\n",
      "Average of 5 measurements is 0.00246 +/- 3e-05\n"
     ]
    }
   ],
   "source": [
    "Measurements = np.array([0.00245234, 0.00245524, 0.00248823, 0.002499234, 0.00242256])\n",
    "\n",
    "# Calculations go here:\n",
    "a = np.count_nonzero(Measurements)\n",
    "b = np.mean(Measurements)\n",
    "d = np.round(b,5)\n",
    "c = np.std(Measurements)\n",
    "e = np.round(c,5)\n",
    "\n",
    "# Print statement goes here:\n",
    "print(a)\n",
    "print(d)\n",
    "print(e)\n",
    "# The ### is a placeholder for your calculated values\n",
    "print('Average of', a, 'measurements is', d,'+/-', e) "
   ]
  },
  {
   "cell_type": "markdown",
   "metadata": {},
   "source": [
    "<font color=orange>**Extra Credit:**</font> Do the same across the rows of the data below. Have your code detect the number of signficant figures (based on the standard deviation) and use that to format the number of digits for the mean. You may not specify the number of digits manually."
   ]
  },
  {
   "cell_type": "code",
   "execution_count": null,
   "metadata": {},
   "outputs": [],
   "source": [
    "MoreData = {'Concentration':[0.00245234, 0.00245524, 0.00248823, 0.002499234, 0.00242256],\n",
    "            'Number of particles':[527283, 557398, 598720, 605402, 515654],\n",
    "            'Solubility':[0.551, 0.245, 0.456, 0.378, 0.345]}"
   ]
  },
  {
   "cell_type": "markdown",
   "metadata": {},
   "source": [
    "<font color=red>**Problem:**</font> Look up 3 additional numpy functions and methods and show an example for each."
   ]
  },
  {
   "cell_type": "code",
   "execution_count": 32,
   "metadata": {},
   "outputs": [
    {
     "name": "stdout",
     "output_type": "stream",
     "text": [
      "[1 2 3 4 5]\n",
      "(3, 5) (3, 5)\n",
      "[4.12310563 5.38516481 6.70820393]\n",
      "[3.74165739 8.77496439]\n"
     ]
    }
   ],
   "source": [
    "import numpy as np\n",
    "\n",
    "# Create an array with repeated elements\n",
    "arr = np.array([1, 2, 3, 2, 4, 5, 1])\n",
    "\n",
    "# Find the unique elements\n",
    "unique_elements = np.unique(arr)\n",
    "\n",
    "print(unique_elements)  \n",
    "# Create 1D arrays for x and y coordinates\n",
    "x = np.linspace(0, 2, 5)\n",
    "y = np.linspace(0, 1, 3)\n",
    "\n",
    "# Generate the meshgrid\n",
    "X, Y = np.meshgrid(x, y)\n",
    "\n",
    "# Print the shapes of the resulting arrays\n",
    "print(X.shape, Y.shape)\n",
    "# Create a 2D array\n",
    "arr = np.array([[1, 2, 3], [4, 5, 6]])\n",
    "\n",
    "# Calculate the norm of each row (axis=0)\n",
    "row_norms = np.linalg.norm(arr, axis=0)\n",
    "\n",
    "# Calculate the norm of each column (axis=1)\n",
    "col_norms = np.linalg.norm(arr, axis=1)\n",
    "\n",
    "print(row_norms)  \n",
    "print(col_norms)  \n",
    "\n",
    "\n"
   ]
  },
  {
   "cell_type": "code",
   "execution_count": null,
   "metadata": {},
   "outputs": [],
   "source": []
  }
 ],
 "metadata": {
  "kernelspec": {
   "display_name": "Python 3 (ipykernel)",
   "language": "python",
   "name": "python3"
  },
  "language_info": {
   "codemirror_mode": {
    "name": "ipython",
    "version": 3
   },
   "file_extension": ".py",
   "mimetype": "text/x-python",
   "name": "python",
   "nbconvert_exporter": "python",
   "pygments_lexer": "ipython3",
   "version": "3.11.5"
  }
 },
 "nbformat": 4,
 "nbformat_minor": 4
}
